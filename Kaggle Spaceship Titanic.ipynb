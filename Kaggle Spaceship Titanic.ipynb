{
 "cells": [
  {
   "cell_type": "code",
   "execution_count": 1,
   "id": "1b21428c",
   "metadata": {},
   "outputs": [],
   "source": [
    "import numpy as np\n",
    "import pandas as pd\n"
   ]
  },
  {
   "cell_type": "code",
   "execution_count": 2,
   "id": "7cbf883a",
   "metadata": {},
   "outputs": [],
   "source": [
    "df = pd.read_csv('Kaggle_Spaceship_train.csv')\n",
    "df2 = pd.read_csv('Kaggle_Spaceship_test.csv')"
   ]
  },
  {
   "cell_type": "markdown",
   "id": "b9e4402a",
   "metadata": {},
   "source": [
    "# Find missing values"
   ]
  },
  {
   "cell_type": "code",
   "execution_count": 3,
   "id": "e45d38f4",
   "metadata": {},
   "outputs": [],
   "source": [
    "temp = df.copy()\n",
    "temp2= df2.copy()"
   ]
  },
  {
   "cell_type": "code",
   "execution_count": 4,
   "id": "35480b4c",
   "metadata": {},
   "outputs": [
    {
     "data": {
      "text/html": [
       "<div>\n",
       "<style scoped>\n",
       "    .dataframe tbody tr th:only-of-type {\n",
       "        vertical-align: middle;\n",
       "    }\n",
       "\n",
       "    .dataframe tbody tr th {\n",
       "        vertical-align: top;\n",
       "    }\n",
       "\n",
       "    .dataframe thead th {\n",
       "        text-align: right;\n",
       "    }\n",
       "</style>\n",
       "<table border=\"1\" class=\"dataframe\">\n",
       "  <thead>\n",
       "    <tr style=\"text-align: right;\">\n",
       "      <th></th>\n",
       "      <th>PassengerId</th>\n",
       "      <th>HomePlanet</th>\n",
       "      <th>CryoSleep</th>\n",
       "      <th>Cabin</th>\n",
       "      <th>Destination</th>\n",
       "      <th>Age</th>\n",
       "      <th>VIP</th>\n",
       "      <th>RoomService</th>\n",
       "      <th>FoodCourt</th>\n",
       "      <th>ShoppingMall</th>\n",
       "      <th>Spa</th>\n",
       "      <th>VRDeck</th>\n",
       "      <th>Name</th>\n",
       "    </tr>\n",
       "  </thead>\n",
       "  <tbody>\n",
       "    <tr>\n",
       "      <th>6</th>\n",
       "      <td>0029_01</td>\n",
       "      <td>Europa</td>\n",
       "      <td>True</td>\n",
       "      <td>B/2/P</td>\n",
       "      <td>55 Cancri e</td>\n",
       "      <td>21.0</td>\n",
       "      <td>False</td>\n",
       "      <td>0.0</td>\n",
       "      <td>NaN</td>\n",
       "      <td>0.0</td>\n",
       "      <td>0.0</td>\n",
       "      <td>0.0</td>\n",
       "      <td>Aldah Ainserfle</td>\n",
       "    </tr>\n",
       "    <tr>\n",
       "      <th>11</th>\n",
       "      <td>0040_01</td>\n",
       "      <td>Europa</td>\n",
       "      <td>False</td>\n",
       "      <td>D/2/P</td>\n",
       "      <td>TRAPPIST-1e</td>\n",
       "      <td>45.0</td>\n",
       "      <td>False</td>\n",
       "      <td>932.0</td>\n",
       "      <td>74.0</td>\n",
       "      <td>NaN</td>\n",
       "      <td>7.0</td>\n",
       "      <td>1010.0</td>\n",
       "      <td>Antino Pinoffent</td>\n",
       "    </tr>\n",
       "    <tr>\n",
       "      <th>15</th>\n",
       "      <td>0046_02</td>\n",
       "      <td>Earth</td>\n",
       "      <td>False</td>\n",
       "      <td>F/11/P</td>\n",
       "      <td>TRAPPIST-1e</td>\n",
       "      <td>27.0</td>\n",
       "      <td>False</td>\n",
       "      <td>0.0</td>\n",
       "      <td>0.0</td>\n",
       "      <td>0.0</td>\n",
       "      <td>903.0</td>\n",
       "      <td>NaN</td>\n",
       "      <td>Glene Powery</td>\n",
       "    </tr>\n",
       "    <tr>\n",
       "      <th>18</th>\n",
       "      <td>0047_02</td>\n",
       "      <td>Europa</td>\n",
       "      <td>False</td>\n",
       "      <td>NaN</td>\n",
       "      <td>TRAPPIST-1e</td>\n",
       "      <td>29.0</td>\n",
       "      <td>False</td>\n",
       "      <td>0.0</td>\n",
       "      <td>7708.0</td>\n",
       "      <td>243.0</td>\n",
       "      <td>569.0</td>\n",
       "      <td>343.0</td>\n",
       "      <td>Muons Prucerod</td>\n",
       "    </tr>\n",
       "    <tr>\n",
       "      <th>19</th>\n",
       "      <td>0047_03</td>\n",
       "      <td>Europa</td>\n",
       "      <td>False</td>\n",
       "      <td>B/0/S</td>\n",
       "      <td>TRAPPIST-1e</td>\n",
       "      <td>40.0</td>\n",
       "      <td>False</td>\n",
       "      <td>26.0</td>\n",
       "      <td>1925.0</td>\n",
       "      <td>8.0</td>\n",
       "      <td>3144.0</td>\n",
       "      <td>63.0</td>\n",
       "      <td>NaN</td>\n",
       "    </tr>\n",
       "  </tbody>\n",
       "</table>\n",
       "</div>"
      ],
      "text/plain": [
       "   PassengerId HomePlanet CryoSleep   Cabin  Destination   Age    VIP  \\\n",
       "6      0029_01     Europa      True   B/2/P  55 Cancri e  21.0  False   \n",
       "11     0040_01     Europa     False   D/2/P  TRAPPIST-1e  45.0  False   \n",
       "15     0046_02      Earth     False  F/11/P  TRAPPIST-1e  27.0  False   \n",
       "18     0047_02     Europa     False     NaN  TRAPPIST-1e  29.0  False   \n",
       "19     0047_03     Europa     False   B/0/S  TRAPPIST-1e  40.0  False   \n",
       "\n",
       "    RoomService  FoodCourt  ShoppingMall     Spa  VRDeck              Name  \n",
       "6           0.0        NaN           0.0     0.0     0.0   Aldah Ainserfle  \n",
       "11        932.0       74.0           NaN     7.0  1010.0  Antino Pinoffent  \n",
       "15          0.0        0.0           0.0   903.0     NaN      Glene Powery  \n",
       "18          0.0     7708.0         243.0   569.0   343.0    Muons Prucerod  \n",
       "19         26.0     1925.0           8.0  3144.0    63.0               NaN  "
      ]
     },
     "execution_count": 4,
     "metadata": {},
     "output_type": "execute_result"
    }
   ],
   "source": [
    "#Checking is there exists null values in the dataset or not\n",
    "temp[temp.isnull().any(axis=1)].head()\n",
    "temp2[temp2.isnull().any(axis=1)].head()"
   ]
  },
  {
   "cell_type": "code",
   "execution_count": null,
   "id": "d742bbc0",
   "metadata": {},
   "outputs": [],
   "source": [
    "# before_rows = temp.shape[0] #no of rows\n",
    "# print(before_rows)\n",
    "\n",
    "# #removing unwanted rows -since missing values are less\n",
    "# temp = temp.dropna()\n",
    "\n",
    "# after_rows = temp.shape[0]\n",
    "# print(after_rows)\n",
    "\n",
    "# print(before_rows - after_rows)"
   ]
  },
  {
   "cell_type": "code",
   "execution_count": 5,
   "id": "86344a45",
   "metadata": {},
   "outputs": [
    {
     "data": {
      "text/html": [
       "<div>\n",
       "<style scoped>\n",
       "    .dataframe tbody tr th:only-of-type {\n",
       "        vertical-align: middle;\n",
       "    }\n",
       "\n",
       "    .dataframe tbody tr th {\n",
       "        vertical-align: top;\n",
       "    }\n",
       "\n",
       "    .dataframe thead th {\n",
       "        text-align: right;\n",
       "    }\n",
       "</style>\n",
       "<table border=\"1\" class=\"dataframe\">\n",
       "  <thead>\n",
       "    <tr style=\"text-align: right;\">\n",
       "      <th></th>\n",
       "      <th># NULL values</th>\n",
       "    </tr>\n",
       "  </thead>\n",
       "  <tbody>\n",
       "    <tr>\n",
       "      <th>CryoSleep</th>\n",
       "      <td>217</td>\n",
       "    </tr>\n",
       "    <tr>\n",
       "      <th>ShoppingMall</th>\n",
       "      <td>208</td>\n",
       "    </tr>\n",
       "    <tr>\n",
       "      <th>VIP</th>\n",
       "      <td>203</td>\n",
       "    </tr>\n",
       "    <tr>\n",
       "      <th>HomePlanet</th>\n",
       "      <td>201</td>\n",
       "    </tr>\n",
       "    <tr>\n",
       "      <th>Name</th>\n",
       "      <td>200</td>\n",
       "    </tr>\n",
       "    <tr>\n",
       "      <th>Cabin</th>\n",
       "      <td>199</td>\n",
       "    </tr>\n",
       "    <tr>\n",
       "      <th>VRDeck</th>\n",
       "      <td>188</td>\n",
       "    </tr>\n",
       "    <tr>\n",
       "      <th>FoodCourt</th>\n",
       "      <td>183</td>\n",
       "    </tr>\n",
       "    <tr>\n",
       "      <th>Spa</th>\n",
       "      <td>183</td>\n",
       "    </tr>\n",
       "    <tr>\n",
       "      <th>Destination</th>\n",
       "      <td>182</td>\n",
       "    </tr>\n",
       "    <tr>\n",
       "      <th>RoomService</th>\n",
       "      <td>181</td>\n",
       "    </tr>\n",
       "    <tr>\n",
       "      <th>Age</th>\n",
       "      <td>179</td>\n",
       "    </tr>\n",
       "    <tr>\n",
       "      <th>PassengerId</th>\n",
       "      <td>0</td>\n",
       "    </tr>\n",
       "    <tr>\n",
       "      <th>Transported</th>\n",
       "      <td>0</td>\n",
       "    </tr>\n",
       "  </tbody>\n",
       "</table>\n",
       "</div>"
      ],
      "text/plain": [
       "              # NULL values\n",
       "CryoSleep               217\n",
       "ShoppingMall            208\n",
       "VIP                     203\n",
       "HomePlanet              201\n",
       "Name                    200\n",
       "Cabin                   199\n",
       "VRDeck                  188\n",
       "FoodCourt               183\n",
       "Spa                     183\n",
       "Destination             182\n",
       "RoomService             181\n",
       "Age                     179\n",
       "PassengerId               0\n",
       "Transported               0"
      ]
     },
     "execution_count": 5,
     "metadata": {},
     "output_type": "execute_result"
    }
   ],
   "source": [
    "total = temp.isnull().sum().sort_values(ascending=False)\n",
    "missing_data = pd.concat([total],axis=1,keys=['# NULL values'])\n",
    "missing_data"
   ]
  },
  {
   "cell_type": "code",
   "execution_count": 8,
   "id": "0612f97d",
   "metadata": {},
   "outputs": [
    {
     "data": {
      "text/html": [
       "<div>\n",
       "<style scoped>\n",
       "    .dataframe tbody tr th:only-of-type {\n",
       "        vertical-align: middle;\n",
       "    }\n",
       "\n",
       "    .dataframe tbody tr th {\n",
       "        vertical-align: top;\n",
       "    }\n",
       "\n",
       "    .dataframe thead th {\n",
       "        text-align: right;\n",
       "    }\n",
       "</style>\n",
       "<table border=\"1\" class=\"dataframe\">\n",
       "  <thead>\n",
       "    <tr style=\"text-align: right;\">\n",
       "      <th></th>\n",
       "      <th># NULL values</th>\n",
       "    </tr>\n",
       "  </thead>\n",
       "  <tbody>\n",
       "    <tr>\n",
       "      <th>CryoSleep</th>\n",
       "      <td>217</td>\n",
       "    </tr>\n",
       "    <tr>\n",
       "      <th>ShoppingMall</th>\n",
       "      <td>208</td>\n",
       "    </tr>\n",
       "    <tr>\n",
       "      <th>VIP</th>\n",
       "      <td>203</td>\n",
       "    </tr>\n",
       "    <tr>\n",
       "      <th>HomePlanet</th>\n",
       "      <td>201</td>\n",
       "    </tr>\n",
       "    <tr>\n",
       "      <th>Name</th>\n",
       "      <td>200</td>\n",
       "    </tr>\n",
       "    <tr>\n",
       "      <th>Cabin</th>\n",
       "      <td>199</td>\n",
       "    </tr>\n",
       "    <tr>\n",
       "      <th>VRDeck</th>\n",
       "      <td>188</td>\n",
       "    </tr>\n",
       "    <tr>\n",
       "      <th>FoodCourt</th>\n",
       "      <td>183</td>\n",
       "    </tr>\n",
       "    <tr>\n",
       "      <th>Spa</th>\n",
       "      <td>183</td>\n",
       "    </tr>\n",
       "    <tr>\n",
       "      <th>Destination</th>\n",
       "      <td>182</td>\n",
       "    </tr>\n",
       "    <tr>\n",
       "      <th>RoomService</th>\n",
       "      <td>181</td>\n",
       "    </tr>\n",
       "    <tr>\n",
       "      <th>Age</th>\n",
       "      <td>179</td>\n",
       "    </tr>\n",
       "    <tr>\n",
       "      <th>PassengerId</th>\n",
       "      <td>0</td>\n",
       "    </tr>\n",
       "    <tr>\n",
       "      <th>Transported</th>\n",
       "      <td>0</td>\n",
       "    </tr>\n",
       "  </tbody>\n",
       "</table>\n",
       "</div>"
      ],
      "text/plain": [
       "              # NULL values\n",
       "CryoSleep               217\n",
       "ShoppingMall            208\n",
       "VIP                     203\n",
       "HomePlanet              201\n",
       "Name                    200\n",
       "Cabin                   199\n",
       "VRDeck                  188\n",
       "FoodCourt               183\n",
       "Spa                     183\n",
       "Destination             182\n",
       "RoomService             181\n",
       "Age                     179\n",
       "PassengerId               0\n",
       "Transported               0"
      ]
     },
     "execution_count": 8,
     "metadata": {},
     "output_type": "execute_result"
    }
   ],
   "source": [
    "total2 = temp2.isnull().sum().sort_values(ascending=False)\n",
    "missing_data2 = pd.concat([total],axis=1,keys=['# NULL values'])\n",
    "missing_data2"
   ]
  },
  {
   "cell_type": "markdown",
   "id": "c8d0a808",
   "metadata": {},
   "source": [
    "# Feature selection"
   ]
  },
  {
   "cell_type": "code",
   "execution_count": 9,
   "id": "bce213be",
   "metadata": {},
   "outputs": [],
   "source": [
    "temp['Cabin'] = df['Cabin'].str[-1:]\n",
    "temp2['Cabin'] = df2['Cabin'].str[-1:]"
   ]
  },
  {
   "cell_type": "code",
   "execution_count": 10,
   "id": "9864a664",
   "metadata": {},
   "outputs": [],
   "source": [
    "#removing unwanted columns\n",
    "temp=temp.drop(['RoomService','FoodCourt','ShoppingMall','Spa','VRDeck','Name'], axis = 1)\n",
    "temp2=temp2.drop(['RoomService','FoodCourt','ShoppingMall','Spa','VRDeck','Name'], axis = 1)"
   ]
  },
  {
   "cell_type": "markdown",
   "id": "468633a9",
   "metadata": {},
   "source": [
    "# Impute the data - fill missing values"
   ]
  },
  {
   "cell_type": "code",
   "execution_count": 11,
   "id": "f332306b",
   "metadata": {},
   "outputs": [],
   "source": [
    "# replace every occurrence of missing_values to one defined by strategy\n",
    "# which can be mean, median, mode. Axis = 0 means rows, 1 means column\n",
    "from sklearn.impute import SimpleImputer\n",
    "\n",
    "imputerN = SimpleImputer(missing_values=np.nan, strategy='mean')\n",
    "imputerC = SimpleImputer(missing_values=np.nan, strategy='most_frequent')\n",
    "\n",
    "#imputer = Imputer(missing_values='NaN', strategy='mean', axis = 0)\n",
    "\n",
    "temp.iloc[:, 1:5] = imputerC.fit_transform(temp.iloc[:, 1:5])\n",
    "temp.iloc[:, 5:6] = imputerN.fit_transform(temp.iloc[:, 5:6])\n",
    "temp.iloc[:, 6:7] = imputerC.fit_transform(temp.iloc[:, 6:7])\n",
    "\n",
    "temp2.iloc[:, 1:5] = imputerC.fit_transform(temp2.iloc[:, 1:5])\n",
    "temp2.iloc[:, 5:6] = imputerN.fit_transform(temp2.iloc[:, 5:6])\n",
    "temp2.iloc[:, 6:7] = imputerC.fit_transform(temp2.iloc[:, 6:7])"
   ]
  },
  {
   "cell_type": "code",
   "execution_count": 12,
   "id": "7b2d2e10",
   "metadata": {},
   "outputs": [
    {
     "data": {
      "text/html": [
       "<div>\n",
       "<style scoped>\n",
       "    .dataframe tbody tr th:only-of-type {\n",
       "        vertical-align: middle;\n",
       "    }\n",
       "\n",
       "    .dataframe tbody tr th {\n",
       "        vertical-align: top;\n",
       "    }\n",
       "\n",
       "    .dataframe thead th {\n",
       "        text-align: right;\n",
       "    }\n",
       "</style>\n",
       "<table border=\"1\" class=\"dataframe\">\n",
       "  <thead>\n",
       "    <tr style=\"text-align: right;\">\n",
       "      <th></th>\n",
       "      <th># NULL values</th>\n",
       "    </tr>\n",
       "  </thead>\n",
       "  <tbody>\n",
       "    <tr>\n",
       "      <th>PassengerId</th>\n",
       "      <td>0</td>\n",
       "    </tr>\n",
       "    <tr>\n",
       "      <th>HomePlanet</th>\n",
       "      <td>0</td>\n",
       "    </tr>\n",
       "    <tr>\n",
       "      <th>CryoSleep</th>\n",
       "      <td>0</td>\n",
       "    </tr>\n",
       "    <tr>\n",
       "      <th>Cabin</th>\n",
       "      <td>0</td>\n",
       "    </tr>\n",
       "    <tr>\n",
       "      <th>Destination</th>\n",
       "      <td>0</td>\n",
       "    </tr>\n",
       "    <tr>\n",
       "      <th>Age</th>\n",
       "      <td>0</td>\n",
       "    </tr>\n",
       "    <tr>\n",
       "      <th>VIP</th>\n",
       "      <td>0</td>\n",
       "    </tr>\n",
       "    <tr>\n",
       "      <th>Transported</th>\n",
       "      <td>0</td>\n",
       "    </tr>\n",
       "  </tbody>\n",
       "</table>\n",
       "</div>"
      ],
      "text/plain": [
       "             # NULL values\n",
       "PassengerId              0\n",
       "HomePlanet               0\n",
       "CryoSleep                0\n",
       "Cabin                    0\n",
       "Destination              0\n",
       "Age                      0\n",
       "VIP                      0\n",
       "Transported              0"
      ]
     },
     "execution_count": 12,
     "metadata": {},
     "output_type": "execute_result"
    }
   ],
   "source": [
    "total = temp.isnull().sum().sort_values(ascending=False)\n",
    "missing_data = pd.concat([total],axis=1,keys=['# NULL values'])\n",
    "missing_data"
   ]
  },
  {
   "cell_type": "code",
   "execution_count": 13,
   "id": "f43d8519",
   "metadata": {},
   "outputs": [
    {
     "data": {
      "text/html": [
       "<div>\n",
       "<style scoped>\n",
       "    .dataframe tbody tr th:only-of-type {\n",
       "        vertical-align: middle;\n",
       "    }\n",
       "\n",
       "    .dataframe tbody tr th {\n",
       "        vertical-align: top;\n",
       "    }\n",
       "\n",
       "    .dataframe thead th {\n",
       "        text-align: right;\n",
       "    }\n",
       "</style>\n",
       "<table border=\"1\" class=\"dataframe\">\n",
       "  <thead>\n",
       "    <tr style=\"text-align: right;\">\n",
       "      <th></th>\n",
       "      <th># NULL values</th>\n",
       "    </tr>\n",
       "  </thead>\n",
       "  <tbody>\n",
       "    <tr>\n",
       "      <th>PassengerId</th>\n",
       "      <td>0</td>\n",
       "    </tr>\n",
       "    <tr>\n",
       "      <th>HomePlanet</th>\n",
       "      <td>0</td>\n",
       "    </tr>\n",
       "    <tr>\n",
       "      <th>CryoSleep</th>\n",
       "      <td>0</td>\n",
       "    </tr>\n",
       "    <tr>\n",
       "      <th>Cabin</th>\n",
       "      <td>0</td>\n",
       "    </tr>\n",
       "    <tr>\n",
       "      <th>Destination</th>\n",
       "      <td>0</td>\n",
       "    </tr>\n",
       "    <tr>\n",
       "      <th>Age</th>\n",
       "      <td>0</td>\n",
       "    </tr>\n",
       "    <tr>\n",
       "      <th>VIP</th>\n",
       "      <td>0</td>\n",
       "    </tr>\n",
       "    <tr>\n",
       "      <th>Transported</th>\n",
       "      <td>0</td>\n",
       "    </tr>\n",
       "  </tbody>\n",
       "</table>\n",
       "</div>"
      ],
      "text/plain": [
       "             # NULL values\n",
       "PassengerId              0\n",
       "HomePlanet               0\n",
       "CryoSleep                0\n",
       "Cabin                    0\n",
       "Destination              0\n",
       "Age                      0\n",
       "VIP                      0\n",
       "Transported              0"
      ]
     },
     "execution_count": 13,
     "metadata": {},
     "output_type": "execute_result"
    }
   ],
   "source": [
    "total2 = temp2.isnull().sum().sort_values(ascending=False)\n",
    "missing_data2 = pd.concat([total],axis=1,keys=['# NULL values'])\n",
    "missing_data2"
   ]
  },
  {
   "cell_type": "markdown",
   "id": "01d409a1",
   "metadata": {},
   "source": [
    "# Encoding categorical data"
   ]
  },
  {
   "cell_type": "code",
   "execution_count": 15,
   "id": "7d92243f",
   "metadata": {},
   "outputs": [],
   "source": [
    "from sklearn.preprocessing import LabelEncoder"
   ]
  },
  {
   "cell_type": "code",
   "execution_count": 16,
   "id": "f7c7c029",
   "metadata": {},
   "outputs": [
    {
     "data": {
      "text/html": [
       "<div>\n",
       "<style scoped>\n",
       "    .dataframe tbody tr th:only-of-type {\n",
       "        vertical-align: middle;\n",
       "    }\n",
       "\n",
       "    .dataframe tbody tr th {\n",
       "        vertical-align: top;\n",
       "    }\n",
       "\n",
       "    .dataframe thead th {\n",
       "        text-align: right;\n",
       "    }\n",
       "</style>\n",
       "<table border=\"1\" class=\"dataframe\">\n",
       "  <thead>\n",
       "    <tr style=\"text-align: right;\">\n",
       "      <th></th>\n",
       "      <th>PassengerId</th>\n",
       "      <th>HomePlanet</th>\n",
       "      <th>CryoSleep</th>\n",
       "      <th>Cabin</th>\n",
       "      <th>Destination</th>\n",
       "      <th>Age</th>\n",
       "      <th>VIP</th>\n",
       "      <th>Transported</th>\n",
       "    </tr>\n",
       "  </thead>\n",
       "  <tbody>\n",
       "    <tr>\n",
       "      <th>0</th>\n",
       "      <td>0001_01</td>\n",
       "      <td>Europa</td>\n",
       "      <td>False</td>\n",
       "      <td>P</td>\n",
       "      <td>TRAPPIST-1e</td>\n",
       "      <td>39.0</td>\n",
       "      <td>False</td>\n",
       "      <td>False</td>\n",
       "    </tr>\n",
       "    <tr>\n",
       "      <th>1</th>\n",
       "      <td>0002_01</td>\n",
       "      <td>Earth</td>\n",
       "      <td>False</td>\n",
       "      <td>S</td>\n",
       "      <td>TRAPPIST-1e</td>\n",
       "      <td>24.0</td>\n",
       "      <td>False</td>\n",
       "      <td>True</td>\n",
       "    </tr>\n",
       "    <tr>\n",
       "      <th>2</th>\n",
       "      <td>0003_01</td>\n",
       "      <td>Europa</td>\n",
       "      <td>False</td>\n",
       "      <td>S</td>\n",
       "      <td>TRAPPIST-1e</td>\n",
       "      <td>58.0</td>\n",
       "      <td>True</td>\n",
       "      <td>False</td>\n",
       "    </tr>\n",
       "    <tr>\n",
       "      <th>3</th>\n",
       "      <td>0003_02</td>\n",
       "      <td>Europa</td>\n",
       "      <td>False</td>\n",
       "      <td>S</td>\n",
       "      <td>TRAPPIST-1e</td>\n",
       "      <td>33.0</td>\n",
       "      <td>False</td>\n",
       "      <td>False</td>\n",
       "    </tr>\n",
       "    <tr>\n",
       "      <th>4</th>\n",
       "      <td>0004_01</td>\n",
       "      <td>Earth</td>\n",
       "      <td>False</td>\n",
       "      <td>S</td>\n",
       "      <td>TRAPPIST-1e</td>\n",
       "      <td>16.0</td>\n",
       "      <td>False</td>\n",
       "      <td>True</td>\n",
       "    </tr>\n",
       "    <tr>\n",
       "      <th>...</th>\n",
       "      <td>...</td>\n",
       "      <td>...</td>\n",
       "      <td>...</td>\n",
       "      <td>...</td>\n",
       "      <td>...</td>\n",
       "      <td>...</td>\n",
       "      <td>...</td>\n",
       "      <td>...</td>\n",
       "    </tr>\n",
       "    <tr>\n",
       "      <th>8688</th>\n",
       "      <td>9276_01</td>\n",
       "      <td>Europa</td>\n",
       "      <td>False</td>\n",
       "      <td>P</td>\n",
       "      <td>55 Cancri e</td>\n",
       "      <td>41.0</td>\n",
       "      <td>True</td>\n",
       "      <td>False</td>\n",
       "    </tr>\n",
       "    <tr>\n",
       "      <th>8689</th>\n",
       "      <td>9278_01</td>\n",
       "      <td>Earth</td>\n",
       "      <td>True</td>\n",
       "      <td>S</td>\n",
       "      <td>PSO J318.5-22</td>\n",
       "      <td>18.0</td>\n",
       "      <td>False</td>\n",
       "      <td>False</td>\n",
       "    </tr>\n",
       "    <tr>\n",
       "      <th>8690</th>\n",
       "      <td>9279_01</td>\n",
       "      <td>Earth</td>\n",
       "      <td>False</td>\n",
       "      <td>S</td>\n",
       "      <td>TRAPPIST-1e</td>\n",
       "      <td>26.0</td>\n",
       "      <td>False</td>\n",
       "      <td>True</td>\n",
       "    </tr>\n",
       "    <tr>\n",
       "      <th>8691</th>\n",
       "      <td>9280_01</td>\n",
       "      <td>Europa</td>\n",
       "      <td>False</td>\n",
       "      <td>S</td>\n",
       "      <td>55 Cancri e</td>\n",
       "      <td>32.0</td>\n",
       "      <td>False</td>\n",
       "      <td>False</td>\n",
       "    </tr>\n",
       "    <tr>\n",
       "      <th>8692</th>\n",
       "      <td>9280_02</td>\n",
       "      <td>Europa</td>\n",
       "      <td>False</td>\n",
       "      <td>S</td>\n",
       "      <td>TRAPPIST-1e</td>\n",
       "      <td>44.0</td>\n",
       "      <td>False</td>\n",
       "      <td>True</td>\n",
       "    </tr>\n",
       "  </tbody>\n",
       "</table>\n",
       "<p>8693 rows × 8 columns</p>\n",
       "</div>"
      ],
      "text/plain": [
       "     PassengerId HomePlanet  CryoSleep Cabin    Destination   Age    VIP  \\\n",
       "0        0001_01     Europa      False     P    TRAPPIST-1e  39.0  False   \n",
       "1        0002_01      Earth      False     S    TRAPPIST-1e  24.0  False   \n",
       "2        0003_01     Europa      False     S    TRAPPIST-1e  58.0   True   \n",
       "3        0003_02     Europa      False     S    TRAPPIST-1e  33.0  False   \n",
       "4        0004_01      Earth      False     S    TRAPPIST-1e  16.0  False   \n",
       "...          ...        ...        ...   ...            ...   ...    ...   \n",
       "8688     9276_01     Europa      False     P    55 Cancri e  41.0   True   \n",
       "8689     9278_01      Earth       True     S  PSO J318.5-22  18.0  False   \n",
       "8690     9279_01      Earth      False     S    TRAPPIST-1e  26.0  False   \n",
       "8691     9280_01     Europa      False     S    55 Cancri e  32.0  False   \n",
       "8692     9280_02     Europa      False     S    TRAPPIST-1e  44.0  False   \n",
       "\n",
       "      Transported  \n",
       "0           False  \n",
       "1            True  \n",
       "2           False  \n",
       "3           False  \n",
       "4            True  \n",
       "...           ...  \n",
       "8688        False  \n",
       "8689        False  \n",
       "8690         True  \n",
       "8691        False  \n",
       "8692         True  \n",
       "\n",
       "[8693 rows x 8 columns]"
      ]
     },
     "execution_count": 16,
     "metadata": {},
     "output_type": "execute_result"
    }
   ],
   "source": [
    "temp"
   ]
  },
  {
   "cell_type": "code",
   "execution_count": 14,
   "id": "8446ce25",
   "metadata": {},
   "outputs": [
    {
     "data": {
      "text/html": [
       "<div>\n",
       "<style scoped>\n",
       "    .dataframe tbody tr th:only-of-type {\n",
       "        vertical-align: middle;\n",
       "    }\n",
       "\n",
       "    .dataframe tbody tr th {\n",
       "        vertical-align: top;\n",
       "    }\n",
       "\n",
       "    .dataframe thead th {\n",
       "        text-align: right;\n",
       "    }\n",
       "</style>\n",
       "<table border=\"1\" class=\"dataframe\">\n",
       "  <thead>\n",
       "    <tr style=\"text-align: right;\">\n",
       "      <th></th>\n",
       "      <th>PassengerId</th>\n",
       "      <th>HomePlanet</th>\n",
       "      <th>CryoSleep</th>\n",
       "      <th>Cabin</th>\n",
       "      <th>Destination</th>\n",
       "      <th>Age</th>\n",
       "      <th>VIP</th>\n",
       "    </tr>\n",
       "  </thead>\n",
       "  <tbody>\n",
       "    <tr>\n",
       "      <th>0</th>\n",
       "      <td>0013_01</td>\n",
       "      <td>Earth</td>\n",
       "      <td>True</td>\n",
       "      <td>S</td>\n",
       "      <td>TRAPPIST-1e</td>\n",
       "      <td>27.000000</td>\n",
       "      <td>False</td>\n",
       "    </tr>\n",
       "    <tr>\n",
       "      <th>1</th>\n",
       "      <td>0018_01</td>\n",
       "      <td>Earth</td>\n",
       "      <td>False</td>\n",
       "      <td>S</td>\n",
       "      <td>TRAPPIST-1e</td>\n",
       "      <td>19.000000</td>\n",
       "      <td>False</td>\n",
       "    </tr>\n",
       "    <tr>\n",
       "      <th>2</th>\n",
       "      <td>0019_01</td>\n",
       "      <td>Europa</td>\n",
       "      <td>True</td>\n",
       "      <td>S</td>\n",
       "      <td>55 Cancri e</td>\n",
       "      <td>31.000000</td>\n",
       "      <td>False</td>\n",
       "    </tr>\n",
       "    <tr>\n",
       "      <th>3</th>\n",
       "      <td>0021_01</td>\n",
       "      <td>Europa</td>\n",
       "      <td>False</td>\n",
       "      <td>S</td>\n",
       "      <td>TRAPPIST-1e</td>\n",
       "      <td>38.000000</td>\n",
       "      <td>False</td>\n",
       "    </tr>\n",
       "    <tr>\n",
       "      <th>4</th>\n",
       "      <td>0023_01</td>\n",
       "      <td>Earth</td>\n",
       "      <td>False</td>\n",
       "      <td>S</td>\n",
       "      <td>TRAPPIST-1e</td>\n",
       "      <td>20.000000</td>\n",
       "      <td>False</td>\n",
       "    </tr>\n",
       "    <tr>\n",
       "      <th>...</th>\n",
       "      <td>...</td>\n",
       "      <td>...</td>\n",
       "      <td>...</td>\n",
       "      <td>...</td>\n",
       "      <td>...</td>\n",
       "      <td>...</td>\n",
       "      <td>...</td>\n",
       "    </tr>\n",
       "    <tr>\n",
       "      <th>4272</th>\n",
       "      <td>9266_02</td>\n",
       "      <td>Earth</td>\n",
       "      <td>True</td>\n",
       "      <td>S</td>\n",
       "      <td>TRAPPIST-1e</td>\n",
       "      <td>34.000000</td>\n",
       "      <td>False</td>\n",
       "    </tr>\n",
       "    <tr>\n",
       "      <th>4273</th>\n",
       "      <td>9269_01</td>\n",
       "      <td>Earth</td>\n",
       "      <td>False</td>\n",
       "      <td>S</td>\n",
       "      <td>TRAPPIST-1e</td>\n",
       "      <td>42.000000</td>\n",
       "      <td>False</td>\n",
       "    </tr>\n",
       "    <tr>\n",
       "      <th>4274</th>\n",
       "      <td>9271_01</td>\n",
       "      <td>Mars</td>\n",
       "      <td>True</td>\n",
       "      <td>P</td>\n",
       "      <td>55 Cancri e</td>\n",
       "      <td>28.658146</td>\n",
       "      <td>False</td>\n",
       "    </tr>\n",
       "    <tr>\n",
       "      <th>4275</th>\n",
       "      <td>9273_01</td>\n",
       "      <td>Europa</td>\n",
       "      <td>False</td>\n",
       "      <td>P</td>\n",
       "      <td>TRAPPIST-1e</td>\n",
       "      <td>28.658146</td>\n",
       "      <td>False</td>\n",
       "    </tr>\n",
       "    <tr>\n",
       "      <th>4276</th>\n",
       "      <td>9277_01</td>\n",
       "      <td>Earth</td>\n",
       "      <td>True</td>\n",
       "      <td>S</td>\n",
       "      <td>PSO J318.5-22</td>\n",
       "      <td>43.000000</td>\n",
       "      <td>False</td>\n",
       "    </tr>\n",
       "  </tbody>\n",
       "</table>\n",
       "<p>4277 rows × 7 columns</p>\n",
       "</div>"
      ],
      "text/plain": [
       "     PassengerId HomePlanet  CryoSleep Cabin    Destination        Age    VIP\n",
       "0        0013_01      Earth       True     S    TRAPPIST-1e  27.000000  False\n",
       "1        0018_01      Earth      False     S    TRAPPIST-1e  19.000000  False\n",
       "2        0019_01     Europa       True     S    55 Cancri e  31.000000  False\n",
       "3        0021_01     Europa      False     S    TRAPPIST-1e  38.000000  False\n",
       "4        0023_01      Earth      False     S    TRAPPIST-1e  20.000000  False\n",
       "...          ...        ...        ...   ...            ...        ...    ...\n",
       "4272     9266_02      Earth       True     S    TRAPPIST-1e  34.000000  False\n",
       "4273     9269_01      Earth      False     S    TRAPPIST-1e  42.000000  False\n",
       "4274     9271_01       Mars       True     P    55 Cancri e  28.658146  False\n",
       "4275     9273_01     Europa      False     P    TRAPPIST-1e  28.658146  False\n",
       "4276     9277_01      Earth       True     S  PSO J318.5-22  43.000000  False\n",
       "\n",
       "[4277 rows x 7 columns]"
      ]
     },
     "execution_count": 14,
     "metadata": {},
     "output_type": "execute_result"
    }
   ],
   "source": [
    "temp2"
   ]
  },
  {
   "cell_type": "code",
   "execution_count": 17,
   "id": "b47b8e24",
   "metadata": {},
   "outputs": [],
   "source": [
    "lable_encoder = LabelEncoder()\n",
    "temp.iloc[:, 1] = lable_encoder.fit_transform(temp.iloc[:, 1])\n",
    "temp2.iloc[:, 1] = lable_encoder.fit_transform(temp2.iloc[:, 1])"
   ]
  },
  {
   "cell_type": "code",
   "execution_count": 18,
   "id": "0626efc4",
   "metadata": {},
   "outputs": [
    {
     "data": {
      "text/plain": [
       "array(['Earth', 'Europa', 'Mars'], dtype=object)"
      ]
     },
     "execution_count": 18,
     "metadata": {},
     "output_type": "execute_result"
    }
   ],
   "source": [
    "lable_encoder.classes_"
   ]
  },
  {
   "cell_type": "code",
   "execution_count": 19,
   "id": "f6723f1c",
   "metadata": {},
   "outputs": [],
   "source": [
    "temp.iloc[:, 3] = lable_encoder.fit_transform(temp.iloc[:, 3])\n",
    "temp2.iloc[:, 3] = lable_encoder.fit_transform(temp2.iloc[:, 3])"
   ]
  },
  {
   "cell_type": "code",
   "execution_count": 20,
   "id": "6cb41924",
   "metadata": {},
   "outputs": [],
   "source": [
    "temp.iloc[:, 4] = lable_encoder.fit_transform(temp.iloc[:, 4])\n",
    "temp2.iloc[:, 4] = lable_encoder.fit_transform(temp2.iloc[:, 4])"
   ]
  },
  {
   "cell_type": "markdown",
   "id": "1360e4de",
   "metadata": {},
   "source": [
    "# Visualize the data"
   ]
  },
  {
   "cell_type": "code",
   "execution_count": 42,
   "id": "544ea08c",
   "metadata": {},
   "outputs": [
    {
     "data": {
      "image/png": "[encoded data removed]",
      "text/plain": [
       "<Figure size 432x288 with 1 Axes>"
      ]
     },
     "metadata": {
      "needs_background": "light"
     },
     "output_type": "display_data"
    }
   ],
   "source": [
    "import matplotlib.pyplot as plt\n",
    "rel_1=pd.crosstab(temp['HomePlanet'],temp['Transported'])\n",
    "\n",
    "rel_1_normalize=rel_1.div(rel_1.sum(1).astype(float),axis=0)\n",
    "\n",
    "rel_1_normalize.plot(kind='bar',title='Transported Rate by HomePlanet',stacked=True,grid=True) \n",
    "\n",
    "plt.xlabel('HomePlanet')\n",
    "plt.ylabel('Transported Rate')\n",
    "plt.show()"
   ]
  },
  {
   "cell_type": "code",
   "execution_count": 43,
   "id": "6e56a89d",
   "metadata": {},
   "outputs": [
    {
     "data": {
      "image/png": "[encoded data removed]",
      "text/plain": [
       "<Figure size 432x288 with 1 Axes>"
      ]
     },
     "metadata": {
      "needs_background": "light"
     },
     "output_type": "display_data"
    }
   ],
   "source": [
    "rel_2=pd.crosstab(temp['CryoSleep'],temp['Transported'])\n",
    "\n",
    "rel_2_normalize=rel_2.div(rel_2.sum(1).astype(float),axis=0)\n",
    "\n",
    "rel_2_normalize.plot(kind='bar',title='Transported Rate by CryoSleep',stacked=True,grid=True) \n",
    "\n",
    "plt.xlabel('CryoSleep')\n",
    "plt.ylabel('Transported Rate')\n",
    "plt.show()"
   ]
  },
  {
   "cell_type": "code",
   "execution_count": 44,
   "id": "7eefee91",
   "metadata": {},
   "outputs": [
    {
     "data": {
      "image/png": "[encoded data removed]",
      "text/plain": [
       "<Figure size 432x288 with 1 Axes>"
      ]
     },
     "metadata": {
      "needs_background": "light"
     },
     "output_type": "display_data"
    }
   ],
   "source": [
    "rel_3=pd.crosstab(temp['Cabin'],temp['Transported'])\n",
    "\n",
    "rel_3_normalize=rel_3.div(rel_3.sum(1).astype(float),axis=0)\n",
    "\n",
    "rel_3_normalize.plot(kind='bar',title='Transported Rate by Cabin',stacked=True,grid=True) \n",
    "\n",
    "plt.xlabel('Cabin')\n",
    "plt.ylabel('Transported Rate')\n",
    "plt.show()"
   ]
  },
  {
   "cell_type": "code",
   "execution_count": 45,
   "id": "2c7b2528",
   "metadata": {},
   "outputs": [
    {
     "data": {
      "image/png": "[encoded data removed]",
      "text/plain": [
       "<Figure size 432x288 with 1 Axes>"
      ]
     },
     "metadata": {
      "needs_background": "light"
     },
     "output_type": "display_data"
    }
   ],
   "source": [
    "rel_4=pd.crosstab(temp['VIP'],temp['Transported'])\n",
    "\n",
    "rel_4_normalize=rel_4.div(rel_4.sum(1).astype(float),axis=0)\n",
    "\n",
    "rel_4_normalize.plot(kind='bar',title='Transported Rate by VIP',stacked=True,grid=True) \n",
    "\n",
    "plt.xlabel('VIP')\n",
    "plt.ylabel('Transported Rate')\n",
    "plt.show()"
   ]
  },
  {
   "cell_type": "code",
   "execution_count": 46,
   "id": "e3119196",
   "metadata": {},
   "outputs": [
    {
     "data": {
      "image/png": "[encoded data removed]",
      "text/plain": [
       "<Figure size 432x288 with 1 Axes>"
      ]
     },
     "metadata": {
      "needs_background": "light"
     },
     "output_type": "display_data"
    }
   ],
   "source": [
    "age_Transported=temp[temp['Transported']==1]['Age']\n",
    "\n",
    "age_not_Transported = temp[temp['Transported'] == 0]['Age']\n",
    "\n",
    "max_age=max(temp['Age'])\n",
    "\n",
    "plt.hist([age_Transported,age_not_Transported],bins=8,range=(1, max_age),stacked=True)\n",
    "\n",
    "plt.title('Transported by Age Plot')\n",
    "plt.xlabel('Ages')\n",
    "plt.ylabel('Count')\n",
    "plt.legend(('Not Transported', 'Transported'), loc='best')\n",
    "plt.show()"
   ]
  },
  {
   "cell_type": "markdown",
   "id": "18a0f9f6",
   "metadata": {},
   "source": [
    "# Training"
   ]
  },
  {
   "cell_type": "code",
   "execution_count": 47,
   "id": "5719fa65",
   "metadata": {},
   "outputs": [],
   "source": [
    "#Decision Tree\n",
    "#Logistic Regression , Perceptron\n",
    "#Linear SVC\n",
    "#Random Forest\n",
    "#Naive Bayes\n"
   ]
  },
  {
   "cell_type": "code",
   "execution_count": 48,
   "id": "37618b9a",
   "metadata": {},
   "outputs": [],
   "source": [
    "# X = temp.iloc[:,:-1].values\n",
    "# y = temp.iloc[:,-1].values"
   ]
  },
  {
   "cell_type": "code",
   "execution_count": 49,
   "id": "56b62d4c",
   "metadata": {},
   "outputs": [
    {
     "name": "stdout",
     "output_type": "stream",
     "text": [
      "<class 'numpy.ndarray'>\n",
      "(8693, 7)\n"
     ]
    }
   ],
   "source": [
    "# # check the type and shape of X\n",
    "# print(type(X))\n",
    "# print(X.shape)"
   ]
  },
  {
   "cell_type": "code",
   "execution_count": 50,
   "id": "a731df5c",
   "metadata": {},
   "outputs": [
    {
     "name": "stdout",
     "output_type": "stream",
     "text": [
      "<class 'numpy.ndarray'>\n",
      "(8693,)\n"
     ]
    }
   ],
   "source": [
    "# # check the type and shape of y\n",
    "# print(type(y))\n",
    "# print(y.shape)"
   ]
  },
  {
   "cell_type": "code",
   "execution_count": 21,
   "id": "ca39ce87",
   "metadata": {},
   "outputs": [
    {
     "data": {
      "text/html": [
       "<div>\n",
       "<style scoped>\n",
       "    .dataframe tbody tr th:only-of-type {\n",
       "        vertical-align: middle;\n",
       "    }\n",
       "\n",
       "    .dataframe tbody tr th {\n",
       "        vertical-align: top;\n",
       "    }\n",
       "\n",
       "    .dataframe thead th {\n",
       "        text-align: right;\n",
       "    }\n",
       "</style>\n",
       "<table border=\"1\" class=\"dataframe\">\n",
       "  <thead>\n",
       "    <tr style=\"text-align: right;\">\n",
       "      <th></th>\n",
       "      <th>PassengerId</th>\n",
       "      <th>HomePlanet</th>\n",
       "      <th>CryoSleep</th>\n",
       "      <th>Cabin</th>\n",
       "      <th>Destination</th>\n",
       "      <th>Age</th>\n",
       "      <th>VIP</th>\n",
       "      <th>Transported</th>\n",
       "    </tr>\n",
       "  </thead>\n",
       "  <tbody>\n",
       "    <tr>\n",
       "      <th>0</th>\n",
       "      <td>0001_01</td>\n",
       "      <td>1</td>\n",
       "      <td>False</td>\n",
       "      <td>0</td>\n",
       "      <td>2</td>\n",
       "      <td>39.0</td>\n",
       "      <td>False</td>\n",
       "      <td>False</td>\n",
       "    </tr>\n",
       "    <tr>\n",
       "      <th>1</th>\n",
       "      <td>0002_01</td>\n",
       "      <td>0</td>\n",
       "      <td>False</td>\n",
       "      <td>1</td>\n",
       "      <td>2</td>\n",
       "      <td>24.0</td>\n",
       "      <td>False</td>\n",
       "      <td>True</td>\n",
       "    </tr>\n",
       "    <tr>\n",
       "      <th>2</th>\n",
       "      <td>0003_01</td>\n",
       "      <td>1</td>\n",
       "      <td>False</td>\n",
       "      <td>1</td>\n",
       "      <td>2</td>\n",
       "      <td>58.0</td>\n",
       "      <td>True</td>\n",
       "      <td>False</td>\n",
       "    </tr>\n",
       "    <tr>\n",
       "      <th>3</th>\n",
       "      <td>0003_02</td>\n",
       "      <td>1</td>\n",
       "      <td>False</td>\n",
       "      <td>1</td>\n",
       "      <td>2</td>\n",
       "      <td>33.0</td>\n",
       "      <td>False</td>\n",
       "      <td>False</td>\n",
       "    </tr>\n",
       "    <tr>\n",
       "      <th>4</th>\n",
       "      <td>0004_01</td>\n",
       "      <td>0</td>\n",
       "      <td>False</td>\n",
       "      <td>1</td>\n",
       "      <td>2</td>\n",
       "      <td>16.0</td>\n",
       "      <td>False</td>\n",
       "      <td>True</td>\n",
       "    </tr>\n",
       "    <tr>\n",
       "      <th>...</th>\n",
       "      <td>...</td>\n",
       "      <td>...</td>\n",
       "      <td>...</td>\n",
       "      <td>...</td>\n",
       "      <td>...</td>\n",
       "      <td>...</td>\n",
       "      <td>...</td>\n",
       "      <td>...</td>\n",
       "    </tr>\n",
       "    <tr>\n",
       "      <th>8688</th>\n",
       "      <td>9276_01</td>\n",
       "      <td>1</td>\n",
       "      <td>False</td>\n",
       "      <td>0</td>\n",
       "      <td>0</td>\n",
       "      <td>41.0</td>\n",
       "      <td>True</td>\n",
       "      <td>False</td>\n",
       "    </tr>\n",
       "    <tr>\n",
       "      <th>8689</th>\n",
       "      <td>9278_01</td>\n",
       "      <td>0</td>\n",
       "      <td>True</td>\n",
       "      <td>1</td>\n",
       "      <td>1</td>\n",
       "      <td>18.0</td>\n",
       "      <td>False</td>\n",
       "      <td>False</td>\n",
       "    </tr>\n",
       "    <tr>\n",
       "      <th>8690</th>\n",
       "      <td>9279_01</td>\n",
       "      <td>0</td>\n",
       "      <td>False</td>\n",
       "      <td>1</td>\n",
       "      <td>2</td>\n",
       "      <td>26.0</td>\n",
       "      <td>False</td>\n",
       "      <td>True</td>\n",
       "    </tr>\n",
       "    <tr>\n",
       "      <th>8691</th>\n",
       "      <td>9280_01</td>\n",
       "      <td>1</td>\n",
       "      <td>False</td>\n",
       "      <td>1</td>\n",
       "      <td>0</td>\n",
       "      <td>32.0</td>\n",
       "      <td>False</td>\n",
       "      <td>False</td>\n",
       "    </tr>\n",
       "    <tr>\n",
       "      <th>8692</th>\n",
       "      <td>9280_02</td>\n",
       "      <td>1</td>\n",
       "      <td>False</td>\n",
       "      <td>1</td>\n",
       "      <td>2</td>\n",
       "      <td>44.0</td>\n",
       "      <td>False</td>\n",
       "      <td>True</td>\n",
       "    </tr>\n",
       "  </tbody>\n",
       "</table>\n",
       "<p>8693 rows × 8 columns</p>\n",
       "</div>"
      ],
      "text/plain": [
       "     PassengerId  HomePlanet  CryoSleep  Cabin  Destination   Age    VIP  \\\n",
       "0        0001_01           1      False      0            2  39.0  False   \n",
       "1        0002_01           0      False      1            2  24.0  False   \n",
       "2        0003_01           1      False      1            2  58.0   True   \n",
       "3        0003_02           1      False      1            2  33.0  False   \n",
       "4        0004_01           0      False      1            2  16.0  False   \n",
       "...          ...         ...        ...    ...          ...   ...    ...   \n",
       "8688     9276_01           1      False      0            0  41.0   True   \n",
       "8689     9278_01           0       True      1            1  18.0  False   \n",
       "8690     9279_01           0      False      1            2  26.0  False   \n",
       "8691     9280_01           1      False      1            0  32.0  False   \n",
       "8692     9280_02           1      False      1            2  44.0  False   \n",
       "\n",
       "      Transported  \n",
       "0           False  \n",
       "1            True  \n",
       "2           False  \n",
       "3           False  \n",
       "4            True  \n",
       "...           ...  \n",
       "8688        False  \n",
       "8689        False  \n",
       "8690         True  \n",
       "8691        False  \n",
       "8692         True  \n",
       "\n",
       "[8693 rows x 8 columns]"
      ]
     },
     "execution_count": 21,
     "metadata": {},
     "output_type": "execute_result"
    }
   ],
   "source": [
    "temp"
   ]
  },
  {
   "cell_type": "code",
   "execution_count": 22,
   "id": "d52aec0a",
   "metadata": {},
   "outputs": [],
   "source": [
    "\n",
    "columns = ['HomePlanet','CryoSleep','Cabin','Destination','Age','VIP']\n",
    "X_trainss = pd.DataFrame(temp, columns=columns)\n",
    "X_testss = pd.DataFrame(temp2, columns=columns)\n",
    "y_train = temp['Transported']\n",
    "# y_test = testData['Transported']"
   ]
  },
  {
   "cell_type": "code",
   "execution_count": 23,
   "id": "c8d9e2e2",
   "metadata": {},
   "outputs": [],
   "source": [
    "from sklearn.preprocessing import StandardScaler\n",
    "\n",
    "st_x= StandardScaler()  \n",
    "X_train= st_x.fit_transform(X_trainss)    \n",
    "X_test= st_x.transform(X_testss) "
   ]
  },
  {
   "cell_type": "markdown",
   "id": "a5d171ae",
   "metadata": {},
   "source": [
    "# Random Forest"
   ]
  },
  {
   "cell_type": "code",
   "execution_count": 42,
   "id": "9899f000",
   "metadata": {},
   "outputs": [
    {
     "name": "stdout",
     "output_type": "stream",
     "text": [
      "Wall time: 291 ms\n",
      "Training Acc:  0.7373748993443\n"
     ]
    }
   ],
   "source": [
    "from sklearn.ensemble import RandomForestClassifier\n",
    "\n",
    "clf = RandomForestClassifier(max_depth=10, random_state=50, n_jobs= -1, oob_score=True, n_estimators=100, max_features=None)\n",
    "%time clf.fit(X_train, y_train)\n",
    "print(\"Training Acc: \",accuracy_score(y_train,dct.predict(X_train)))\n",
    "\n",
    "y_prediction = clf.predict(X_test)\n",
    "\n",
    "headers = [\"PassengerId\", \"Transported\"]\n",
    "\n",
    "prediction = pd.DataFrame(y_prediction, columns = ['prediction'])\n",
    "data = [temp2['PassengerId'], prediction['prediction']]\n",
    "\n",
    "resultDf = pd.concat(data, axis=1, keys=headers)\n",
    "\n",
    "resultDf.to_csv('Submission1.csv', encoding='utf-8', index=None)"
   ]
  },
  {
   "cell_type": "markdown",
   "id": "a43b12e1",
   "metadata": {},
   "source": [
    "# Decision Tree"
   ]
  },
  {
   "cell_type": "code",
   "execution_count": 43,
   "id": "238c08f0",
   "metadata": {},
   "outputs": [
    {
     "name": "stdout",
     "output_type": "stream",
     "text": [
      "Wall time: 7.02 ms\n",
      "Training Acc:  0.7373748993443\n"
     ]
    }
   ],
   "source": [
    "from sklearn.metrics import accuracy_score\n",
    "from sklearn.tree import DecisionTreeClassifier\n",
    "\n",
    "dct = DecisionTreeClassifier(random_state=0,max_depth=4)\n",
    "%time dct.fit(X_train,y_train)\n",
    "print(\"Training Acc: \",accuracy_score(y_train,dct.predict(X_train)))\n",
    "\n",
    "y_prediction_dtc = dct.predict(X_test)\n",
    "\n",
    "headers = [\"PassengerId\", \"Transported\"]\n",
    "\n",
    "prediction = pd.DataFrame(y_prediction_dtc, columns = ['prediction'])\n",
    "\n",
    "data = [temp2['PassengerId'], prediction['prediction']]\n",
    "\n",
    "resultDf = pd.concat(data, axis=1, keys=headers)\n",
    "\n",
    "resultDf.to_csv('Submission2.csv', encoding='utf-8', index=None)\n"
   ]
  },
  {
   "cell_type": "code",
   "execution_count": 36,
   "id": "bec891ee",
   "metadata": {},
   "outputs": [
    {
     "name": "stdout",
     "output_type": "stream",
     "text": [
      "Wall time: 17 ms\n",
      "Training Acc:  0.4975267456574255\n"
     ]
    }
   ],
   "source": [
    "from sklearn.linear_model import LogisticRegression, Perceptron\n",
    "\n",
    "percept = Perceptron(random_state=0)\n",
    "%time percept.fit(X_train,y_train)\n",
    "print(\"Training Acc: \",percept.score(X_train,y_train))\n",
    "\n"
   ]
  },
  {
   "cell_type": "code",
   "execution_count": 44,
   "id": "37b806ac",
   "metadata": {},
   "outputs": [
    {
     "name": "stdout",
     "output_type": "stream",
     "text": [
      "Training Acc:  0.7225353732888531\n",
      "Wall time: 25.4 ms\n"
     ]
    }
   ],
   "source": [
    "%%time\n",
    "lr = LogisticRegression(random_state=0)\n",
    "lr.fit(X_train,y_train)\n",
    "print(\"Training Acc: \",lr.score(X_train,y_train))\n",
    "\n",
    "y_prediction_lr = lr.predict(X_test)\n",
    "\n",
    "headers = [\"PassengerId\", \"Transported\"]\n",
    "\n",
    "prediction = pd.DataFrame(y_prediction_lr, columns = ['prediction'])\n",
    "\n",
    "data = [temp2['PassengerId'], prediction['prediction']]\n",
    "\n",
    "resultDf = pd.concat(data, axis=1, keys=headers)\n",
    "\n",
    "resultDf.to_csv('Submission3.csv', encoding='utf-8', index=None)\n"
   ]
  },
  {
   "cell_type": "code",
   "execution_count": 45,
   "id": "4bc6bc36",
   "metadata": {},
   "outputs": [
    {
     "name": "stdout",
     "output_type": "stream",
     "text": [
      "Training Acc:  0.718279075117911\n"
     ]
    }
   ],
   "source": [
    "from sklearn.svm import SVC\n",
    "clf = SVC(kernel=\"linear\")\n",
    "clf.fit(X_train,y_train)\n",
    "print(\"Training Acc: \",clf.score(X_train,y_train))\n",
    "\n",
    "y_prediction_clf = clf.predict(X_test)\n",
    "\n",
    "headers = [\"PassengerId\", \"Transported\"]\n",
    "\n",
    "prediction = pd.DataFrame(y_prediction_clf, columns = ['prediction'])\n",
    "\n",
    "data = [temp2['PassengerId'], prediction['prediction']]\n",
    "\n",
    "resultDf = pd.concat(data, axis=1, keys=headers)\n",
    "\n",
    "resultDf.to_csv('Submission4.csv', encoding='utf-8', index=None)\n"
   ]
  },
  {
   "cell_type": "code",
   "execution_count": null,
   "id": "afbcc78f",
   "metadata": {},
   "outputs": [],
   "source": []
  }
 ],
 "metadata": {
  "kernelspec": {
   "display_name": "Python 3",
   "language": "python",
   "name": "python3"
  },
  "language_info": {
   "codemirror_mode": {
    "name": "ipython",
    "version": 3
   },
   "file_extension": ".py",
   "mimetype": "text/x-python",
   "name": "python",
   "nbconvert_exporter": "python",
   "pygments_lexer": "ipython3",
   "version": "3.8.8"
  }
 },
 "nbformat": 4,
 "nbformat_minor": 5
}
